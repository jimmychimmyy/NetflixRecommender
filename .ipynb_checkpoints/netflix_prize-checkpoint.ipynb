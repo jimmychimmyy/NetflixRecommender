{
 "cells": [
  {
   "cell_type": "code",
   "execution_count": 1,
   "metadata": {},
   "outputs": [],
   "source": [
    "import numpy as np\n",
    "import pandas as pd\n",
    "import os\n",
    "import sys\n",
    "\n",
    "import warnings\n",
    "warnings.filterwarnings(\"ignore\")"
   ]
  },
  {
   "cell_type": "code",
   "execution_count": 2,
   "metadata": {},
   "outputs": [],
   "source": [
    "import findspark\n",
    "from pyspark.sql import SparkSession\n",
    "spark = SparkSession \\\n",
    "    .builder \\\n",
    "    .appName('netflix_prize') \\\n",
    "    .config(\"spark.some.config.option\", \"some-value\") \\\n",
    "    .getOrCreate()"
   ]
  },
  {
   "cell_type": "code",
   "execution_count": 6,
   "metadata": {},
   "outputs": [
    {
     "name": "stdout",
     "output_type": "stream",
     "text": [
      "done reading: ./netflix-prize-data/combined_data_1.txt\n",
      "done reading: ./netflix-prize-data/combined_data_2.txt\n",
      "done reading: ./netflix-prize-data/combined_data_3.txt\n",
      "done reading: ./netflix-prize-data/combined_data_4.txt\n"
     ]
    }
   ],
   "source": [
    "FILEPATH_COMBINED_DATA_1 = \"./netflix-prize-data/combined_data_1.txt\"\n",
    "FILEPATH_COMBINED_DATA_2 = \"./netflix-prize-data/combined_data_2.txt\"\n",
    "FILEPATH_COMBINED_DATA_3 = \"./netflix-prize-data/combined_data_3.txt\"\n",
    "FILEPATH_COMBINED_DATA_4 = \"./netflix-prize-data/combined_data_4.txt\"\n",
    "FILES = [FILEPATH_COMBINED_DATA_1, FILEPATH_COMBINED_DATA_2, FILEPATH_COMBINED_DATA_3, FILEPATH_COMBINED_DATA_4]\n",
    "\n",
    "lines = []\n",
    "values = []\n",
    "for filename in FILES:\n",
    "    lines.clear()\n",
    "    with open(filename) as file:\n",
    "        lines = file.read().splitlines()\n",
    "    values = values + lines\n",
    "    print(\"done reading:\", filename)"
   ]
  },
  {
   "cell_type": "code",
   "execution_count": 13,
   "metadata": {},
   "outputs": [
    {
     "name": "stderr",
     "output_type": "stream",
     "text": [
      "IOPub data rate exceeded.\n",
      "The notebook server will temporarily stop sending output\n",
      "to the client in order to avoid crashing it.\n",
      "To change this limit, set the config variable\n",
      "`--NotebookApp.iopub_data_rate_limit`.\n",
      "\n",
      "Current values:\n",
      "NotebookApp.iopub_data_rate_limit=1000000.0 (bytes/sec)\n",
      "NotebookApp.rate_limit_window=3.0 (secs)\n",
      "\n"
     ]
    }
   ],
   "source": [
    "customer_ids = {}\n",
    "num_ratings = {}\n",
    "total_num_movies = 0\n",
    "max_customer_id = 0\n",
    "movie_id = 0\n",
    "\n",
    "for line in lines:\n",
    "    if line.endswith(':'):\n",
    "        movie_id = line.replace(':', '')\n",
    "        num_ratings[movie_id] = 0\n",
    "        total_num_movies+=1\n",
    "    else:\n",
    "        values = line.split(',')\n",
    "        if values[0] in customer_ids:\n",
    "            customer_ids[values[0]]+=1\n",
    "        else:\n",
    "            customer_ids[values[0]] = 1\n",
    "        num_ratings[movie_id]+=1\n",
    "        if int(values[0]) > max_customer_id:\n",
    "            max_customer_id = int(values[0])\n",
    "\n",
    "print(\"len(lines):\", len(lines))            \n",
    "print(\"max_customer_id:\", max_customer_id)\n",
    "print(\"len(customer_ids):\", customer_ids)\n",
    "print(\"total_num_movies:\", total_num_movies)"
   ]
  },
  {
   "cell_type": "code",
   "execution_count": 3,
   "metadata": {},
   "outputs": [],
   "source": [
    "# lets try keeping only the top 1000 users"
   ]
  }
 ],
 "metadata": {
  "kernelspec": {
   "display_name": "Python 3",
   "language": "python",
   "name": "python3"
  },
  "language_info": {
   "codemirror_mode": {
    "name": "ipython",
    "version": 3
   },
   "file_extension": ".py",
   "mimetype": "text/x-python",
   "name": "python",
   "nbconvert_exporter": "python",
   "pygments_lexer": "ipython3",
   "version": "3.6.5"
  }
 },
 "nbformat": 4,
 "nbformat_minor": 2
}
