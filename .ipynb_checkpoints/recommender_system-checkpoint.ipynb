{
 "cells": [
  {
   "cell_type": "code",
   "execution_count": 4,
   "metadata": {},
   "outputs": [],
   "source": [
    "import numpy as np\n",
    "import pandas as pd\n",
    "import os\n",
    "\n",
    "import warnings\n",
    "warnings.filterwarnings(\"ignore\")"
   ]
  },
  {
   "cell_type": "code",
   "execution_count": 5,
   "metadata": {},
   "outputs": [],
   "source": [
    "FILEPATH_COMBINED_DATA_1 = \"./netflix-prize-data/combined_data_1.txt\"\n",
    "FILEPATH_COMBINED_DATA_2 = \"./netflix-prize-data/combined_data_2.txt\"\n",
    "FILEPATH_COMBINED_DATA_3 = \"./netflix-prize-data/combined_data_3.txt\"\n",
    "FILEPATH_COMBINED_DATA_4 = \"./netflix-prize-data/combined_data_4.txt\"\n",
    "\n",
    "NUMBER_OF_USER_IDS = 2649429\n",
    "NUMBER_OF_MOVIES =  17770"
   ]
  },
  {
   "cell_type": "code",
   "execution_count": null,
   "metadata": {},
   "outputs": [],
   "source": [
    "df_users_items = pd.DataFrame(-1, index=np.arange(NUMBER_OF_USER_IDS), columns=np.arange(NUMBER_OF_MOVIES))"
   ]
  },
  {
   "cell_type": "code",
   "execution_count": null,
   "metadata": {},
   "outputs": [],
   "source": [
    "df_users_items.shape"
   ]
  },
  {
   "cell_type": "code",
   "execution_count": null,
   "metadata": {},
   "outputs": [],
   "source": []
  },
  {
   "cell_type": "code",
   "execution_count": null,
   "metadata": {},
   "outputs": [],
   "source": []
  }
 ],
 "metadata": {
  "kernelspec": {
   "display_name": "Python 3",
   "language": "python",
   "name": "python3"
  },
  "language_info": {
   "codemirror_mode": {
    "name": "ipython",
    "version": 3
   },
   "file_extension": ".py",
   "mimetype": "text/x-python",
   "name": "python",
   "nbconvert_exporter": "python",
   "pygments_lexer": "ipython3",
   "version": "3.6.5"
  }
 },
 "nbformat": 4,
 "nbformat_minor": 2
}
